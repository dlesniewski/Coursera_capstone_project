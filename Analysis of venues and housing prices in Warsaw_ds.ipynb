{
    "cells": [
        {
            "cell_type": "markdown",
            "metadata": {
                "collapsed": true
            },
            "source": "## Analysis of venues and housing prices in Warsaw"
        },
        {
            "cell_type": "markdown",
            "metadata": {},
            "source": "## Introduction to the analysis and statement of the business problems"
        },
        {
            "cell_type": "markdown",
            "metadata": {},
            "source": "The analysis will concern city of Warsaw (capital of Poland) and it's 18 districts. As the city is developing really rapidly and attracts many international students and workers willing to live and work in Warsaw, this analysis contain two aspects:\n- clustering of the districts based on what kind of venues are dominantly in the district\n- followed by an analysis what is the average price of square meter of a new flat\n\nThis recipient of the analysis will be people willing to relocate to Warsaw and buy a new flat. The outcome will help them to choose what kind of districts they would like to live (with many shops vs. with many factories) vs. what kind of district they can afford."
        },
        {
            "cell_type": "markdown",
            "metadata": {},
            "source": "## Data where you describe the data that will be used to solve the problem and the source of the data."
        },
        {
            "cell_type": "markdown",
            "metadata": {},
            "source": "In this analysis I will use different sources of data which will include:\n- geolocation coordinates of Warsaw - to visualize the data on the maps using folium module\n- geolocation coordinates of \"centers\" of each Warsaw district (18 of them) - to visualize the data on the maps as well as input for Foursquares API\n- data from Foursquares database on venues that are around \"center\" of each Warsaw districts - their location, name and type of venues so that I will cluster in the next part of the analysis if the district is an industrial one or many services (shops, restaurants etc)\n- average price"
        },
        {
            "cell_type": "markdown",
            "metadata": {},
            "source": ""
        },
        {
            "cell_type": "code",
            "execution_count": null,
            "metadata": {},
            "outputs": [],
            "source": ""
        },
        {
            "cell_type": "code",
            "execution_count": null,
            "metadata": {},
            "outputs": [],
            "source": ""
        }
    ],
    "metadata": {
        "kernelspec": {
            "display_name": "Python 3.6",
            "language": "python",
            "name": "python3"
        },
        "language_info": {
            "codemirror_mode": {
                "name": "ipython",
                "version": 3
            },
            "file_extension": ".py",
            "mimetype": "text/x-python",
            "name": "python",
            "nbconvert_exporter": "python",
            "pygments_lexer": "ipython3",
            "version": "3.6.9"
        }
    },
    "nbformat": 4,
    "nbformat_minor": 1
}